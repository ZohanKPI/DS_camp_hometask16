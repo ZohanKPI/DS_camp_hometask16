{
 "cells": [
  {
   "cell_type": "code",
   "execution_count": 12,
   "id": "cb084bef",
   "metadata": {},
   "outputs": [],
   "source": [
    "import pandas as pd\n",
    "\n",
    "groceries_data = pd.read_csv('Groceries_dataset.csv')\n",
    "groceries_data['Transaction'] = groceries_data['Member_number'].astype(str) + '-' + groceries_data['Date']"
   ]
  },
  {
   "cell_type": "code",
   "execution_count": 13,
   "id": "e24248d3",
   "metadata": {},
   "outputs": [],
   "source": [
    "transactions = groceries_data.groupby(['Transaction'])['itemDescription'].apply(list)"
   ]
  },
  {
   "cell_type": "code",
   "execution_count": 14,
   "id": "752d2257",
   "metadata": {},
   "outputs": [],
   "source": [
    "from mlxtend.preprocessing import TransactionEncoder\n",
    "\n",
    "te = TransactionEncoder()\n",
    "te_ary = te.fit(transactions).transform(transactions)\n",
    "df = pd.DataFrame(te_ary, columns=te.columns_)"
   ]
  },
  {
   "cell_type": "code",
   "execution_count": 15,
   "id": "3c06cd5d",
   "metadata": {},
   "outputs": [],
   "source": [
    "from mlxtend.frequent_patterns import apriori\n",
    "\n",
    "frequent_itemsets = apriori(df, min_support=0.005, use_colnames=True)"
   ]
  },
  {
   "cell_type": "code",
   "execution_count": 16,
   "id": "4b4b242c",
   "metadata": {},
   "outputs": [],
   "source": [
    "from mlxtend.frequent_patterns import association_rules\n",
    "\n",
    "rules = association_rules(frequent_itemsets, metric=\"confidence\", min_threshold=0.05)"
   ]
  },
  {
   "cell_type": "code",
   "execution_count": 17,
   "id": "a121bdf6",
   "metadata": {},
   "outputs": [],
   "source": [
    "top_10_rules = rules.sort_values('lift', ascending=False).head(10)"
   ]
  },
  {
   "cell_type": "code",
   "execution_count": 18,
   "id": "3fe76f55",
   "metadata": {},
   "outputs": [
    {
     "name": "stdout",
     "output_type": "stream",
     "text": [
      "        antecedents         consequents  antecedent support  \\\n",
      "6     (frankfurter)  (other vegetables)            0.037760   \n",
      "43         (yogurt)           (sausage)            0.085879   \n",
      "42        (sausage)            (yogurt)            0.060349   \n",
      "38        (sausage)              (soda)            0.060349   \n",
      "39           (soda)           (sausage)            0.097106   \n",
      "0    (bottled beer)        (whole milk)            0.045312   \n",
      "40        (sausage)        (whole milk)            0.060349   \n",
      "41     (whole milk)           (sausage)            0.157923   \n",
      "8      (newspapers)        (whole milk)            0.038896   \n",
      "5   (domestic eggs)        (whole milk)            0.037091   \n",
      "\n",
      "    consequent support   support  confidence      lift  leverage  conviction  \\\n",
      "6             0.122101  0.005146    0.136283  1.116150  0.000536    1.016420   \n",
      "43            0.060349  0.005748    0.066926  1.108986  0.000565    1.007049   \n",
      "42            0.085879  0.005748    0.095238  1.108986  0.000565    1.010345   \n",
      "38            0.097106  0.005948    0.098560  1.014975  0.000088    1.001613   \n",
      "39            0.060349  0.005948    0.061253  1.014975  0.000088    1.000963   \n",
      "0             0.157923  0.007151    0.157817  0.999330 -0.000005    0.999874   \n",
      "40            0.157923  0.008955    0.148394  0.939663 -0.000575    0.988811   \n",
      "41            0.060349  0.008955    0.056708  0.939663 -0.000575    0.996140   \n",
      "8             0.157923  0.005614    0.144330  0.913926 -0.000529    0.984114   \n",
      "5             0.157923  0.005280    0.142342  0.901341 -0.000578    0.981834   \n",
      "\n",
      "    zhangs_metric  \n",
      "6        0.108146  \n",
      "43       0.107508  \n",
      "42       0.104587  \n",
      "38       0.015702  \n",
      "39       0.016341  \n",
      "0       -0.000702  \n",
      "40      -0.063965  \n",
      "41      -0.070851  \n",
      "8       -0.089246  \n",
      "5       -0.102072  \n"
     ]
    }
   ],
   "source": [
    "print(top_10_rules)"
   ]
  },
  {
   "cell_type": "code",
   "execution_count": null,
   "id": "a6344629",
   "metadata": {},
   "outputs": [],
   "source": []
  }
 ],
 "metadata": {
  "kernelspec": {
   "display_name": "Python 3 (ipykernel)",
   "language": "python",
   "name": "python3"
  },
  "language_info": {
   "codemirror_mode": {
    "name": "ipython",
    "version": 3
   },
   "file_extension": ".py",
   "mimetype": "text/x-python",
   "name": "python",
   "nbconvert_exporter": "python",
   "pygments_lexer": "ipython3",
   "version": "3.11.5"
  }
 },
 "nbformat": 4,
 "nbformat_minor": 5
}
