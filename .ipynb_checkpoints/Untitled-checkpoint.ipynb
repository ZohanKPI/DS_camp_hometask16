{
 "cells": [
  {
   "cell_type": "code",
   "execution_count": 10,
   "id": "b76c799b",
   "metadata": {},
   "outputs": [],
   "source": [
    "import pandas as pd\n",
    "groceries_data = pd.read_csv('Groceries_dataset.csv')\n",
    "groceries_data['Transaction'] = groceries_data['Member_number'].astype(str) + '-' + groceries_data['Date']"
   ]
  },
  {
   "cell_type": "code",
   "execution_count": 11,
   "id": "24c3d427",
   "metadata": {},
   "outputs": [],
   "source": [
    "transactions = groceries_data.groupby('Transaction')['itemDescription'].apply(list)"
   ]
  },
  {
   "cell_type": "code",
   "execution_count": 12,
   "id": "96829ee6",
   "metadata": {},
   "outputs": [],
   "source": [
    "from collections import defaultdict\n",
    "\n",
    "item_frequency = defaultdict(int)\n",
    "total_transactions = len(transactions)\n",
    "\n",
    "for transaction in transactions:\n",
    "    for item in transaction:\n",
    "        item_frequency[item] += 1\n",
    "\n",
    "item_support = {item: freq / total_transactions for item, freq in item_frequency.items()}"
   ]
  },
  {
   "cell_type": "code",
   "execution_count": null,
   "id": "7cd51a65",
   "metadata": {},
   "outputs": [],
   "source": [
    "import itertools\n",
    "\n",
    "min_support = 0.01  # Adjust as needed\n",
    "frequent_itemsets = []\n",
    "\n",
    "for i in range(1, len(item_frequency) + 1):\n",
    "    for itemset in itertools.combinations(item_frequency.keys(), i):\n",
    "        itemset_support = min([item_support[item] for item in itemset])\n",
    "        if itemset_support >= min_support:\n",
    "            frequent_itemsets.append((itemset, itemset_support))\n"
   ]
  },
  {
   "cell_type": "code",
   "execution_count": null,
   "id": "2568154a",
   "metadata": {},
   "outputs": [],
   "source": []
  }
 ],
 "metadata": {
  "kernelspec": {
   "display_name": "Python 3 (ipykernel)",
   "language": "python",
   "name": "python3"
  },
  "language_info": {
   "codemirror_mode": {
    "name": "ipython",
    "version": 3
   },
   "file_extension": ".py",
   "mimetype": "text/x-python",
   "name": "python",
   "nbconvert_exporter": "python",
   "pygments_lexer": "ipython3",
   "version": "3.11.5"
  }
 },
 "nbformat": 4,
 "nbformat_minor": 5
}
